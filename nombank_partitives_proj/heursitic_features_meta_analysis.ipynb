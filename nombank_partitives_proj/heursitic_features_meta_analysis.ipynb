{
  "nbformat": 4,
  "nbformat_minor": 0,
  "metadata": {
    "colab": {
      "provenance": []
    },
    "kernelspec": {
      "name": "python3",
      "display_name": "Python 3"
    },
    "language_info": {
      "name": "python"
    }
  },
  "cells": [
    {
      "cell_type": "code",
      "execution_count": null,
      "metadata": {
        "id": "Lecv75BDT8qd"
      },
      "outputs": [],
      "source": [
        "gold_parse = ((S (NP (DT The) (NN consensus) (NN view))\n",
        "  (VP (VG (VBZ expects))\n",
        "   (NP (NP (DT a) (NP (CD |0.4|) (NN %)) (NN increase))\n",
        "    (PP (IN in) (NP (DT the) (NP (NNP September) (NNP CPI)))))\n",
        "   (PP (IN after)\n",
        "    (NP (NP (DT a) (JJ flat) (NN reading)) (PP (IN in) (NP (NNP August))))))\n",
        "  (|.| |.|)))"
      ]
    },
    {
      "cell_type": "code",
      "source": [
        "\"\"\"\n",
        "    The DT B-NP 0 0\n",
        "    consensus NN I-NP 1 0\n",
        "    view NN I-NP 2 0\n",
        "    expects VBZ O 3 0\n",
        "    a DT O 4 0\n",
        "    0.4 CD B-NP 5 0\n",
        "    % NN I-NP 6 0 PRED PARTITIVE-QUANT\n",
        "    increase NN B-NP 7 0 SUPPORT\n",
        "    in IN B-PP 8 0\n",
        "    the DT B-NP 9 0\n",
        "    September NNP B-NP 10 0\n",
        "    CPI NNP I-NP 11 0 ARG1\n",
        "    after IN B-PP 12 0\n",
        "    a DT B-NP 13 0\n",
        "    flat JJ I-NP 14 0\n",
        "    reading NN I-NP 15 0\n",
        "    in IN B-PP 16 0\n",
        "    August NNP B-NP 17 0\n",
        "    . . O 18 0\n",
        "\n",
        "\"\"\""
      ],
      "metadata": {
        "colab": {
          "base_uri": "https://localhost:8080/",
          "height": 87
        },
        "id": "IkFhYejYUG9T",
        "outputId": "8bd1a2fe-4210-4d6c-ed91-6b55f81f0273"
      },
      "execution_count": 2,
      "outputs": [
        {
          "output_type": "execute_result",
          "data": {
            "text/plain": [
              "'\\n    The DT B-NP 0 0\\n    consensus NN I-NP 1 0\\n    view NN I-NP 2 0\\n    expects VBZ O 3 0\\n    a DT O 4 0\\n    0.4 CD B-NP 5 0\\n    % NN I-NP 6 0 PRED PARTITIVE-QUANT\\n    increase NN B-NP 7 0 SUPPORT\\n    in IN B-PP 8 0\\n    the DT B-NP 9 0\\n    September NNP B-NP 10 0\\n    CPI NNP I-NP 11 0 ARG1\\n    after IN B-PP 12 0\\n    a DT B-NP 13 0\\n    flat JJ I-NP 14 0\\n    reading NN I-NP 15 0\\n    in IN B-PP 16 0\\n    August NNP B-NP 17 0\\n    . . O 18 0\\n    \\n'"
            ],
            "application/vnd.google.colaboratory.intrinsic+json": {
              "type": "string"
            }
          },
          "metadata": {},
          "execution_count": 2
        }
      ]
    },
    {
      "cell_type": "code",
      "source": [
        "(S)----------------------\n",
        "|         |             |\n",
        "(NP)      (VP)----------(.)\n",
        "|          |            |\n",
        "\"view\"    (VG)          \".\"\n",
        "          /   \\\n",
        "      \"expects\" (NP)\n",
        "                  |\n",
        "                 (NP)\n",
        "                  |\n",
        "                 \"increase\"\n",
        "                  |\n",
        "                 (PP)\n",
        "                  |\n",
        "                  ...\n",
        "                  |\n",
        "                 (NP)\n",
        "                  |\n",
        "                 \"CPI\"\n"
      ],
      "metadata": {
        "id": "PICyMNGnU4zG"
      },
      "execution_count": null,
      "outputs": []
    },
    {
      "cell_type": "code",
      "source": [],
      "metadata": {
        "id": "gRPux0O7VtPc"
      },
      "execution_count": null,
      "outputs": []
    },
    {
      "cell_type": "markdown",
      "source": [
        "Heuristic Path: ↑VP↓NP↓Noun\n",
        "\n",
        "Actual Path from Parse Tree: ↑VP↓NP↓NP↓NNP\n",
        "\n",
        "Actual path has the same back bone, but can be more nuanced, we can make the actual path to heurisitic path comparison using regular expressions for capturing more detail. Nonetheless, the heuristic features seem to work well."
      ],
      "metadata": {
        "id": "_VmC4AebV2mH"
      }
    }
  ]
}